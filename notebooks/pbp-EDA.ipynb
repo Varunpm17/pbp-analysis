{
 "cells": [
  {
   "cell_type": "code",
   "execution_count": 52,
   "metadata": {},
   "outputs": [],
   "source": [
    "import pandas as pd \n",
    "import numpy as np\n",
    "import matplotlib.pyplot as plt\n",
    "import scipy as sp\n",
    "import scipy.stats as stats"
   ]
  },
  {
   "cell_type": "code",
   "execution_count": 2,
   "metadata": {},
   "outputs": [
    {
     "name": "stderr",
     "output_type": "stream",
     "text": [
      "b'Skipping line 5011: expected 45 fields, saw 48\\nSkipping line 14753: expected 45 fields, saw 46\\n'\n",
      "b'Skipping line 17296: expected 45 fields, saw 48\\nSkipping line 17310: expected 45 fields, saw 48\\n'\n",
      "b'Skipping line 37361: expected 45 fields, saw 48\\nSkipping line 37368: expected 45 fields, saw 48\\nSkipping line 42837: expected 45 fields, saw 46\\n'\n",
      "/Users/varunmeduri/opt/anaconda3/lib/python3.8/site-packages/IPython/core/interactiveshell.py:3146: DtypeWarning: Columns (15,33) have mixed types.Specify dtype option on import or set low_memory=False.\n",
      "  has_raised = await self.run_ast_nodes(code_ast.body, cell_name,\n"
     ]
    },
    {
     "data": {
      "text/html": [
       "<div>\n",
       "<style scoped>\n",
       "    .dataframe tbody tr th:only-of-type {\n",
       "        vertical-align: middle;\n",
       "    }\n",
       "\n",
       "    .dataframe tbody tr th {\n",
       "        vertical-align: top;\n",
       "    }\n",
       "\n",
       "    .dataframe thead th {\n",
       "        text-align: right;\n",
       "    }\n",
       "</style>\n",
       "<table border=\"1\" class=\"dataframe\">\n",
       "  <thead>\n",
       "    <tr style=\"text-align: right;\">\n",
       "      <th></th>\n",
       "      <th>GameId</th>\n",
       "      <th>GameDate</th>\n",
       "      <th>Quarter</th>\n",
       "      <th>Minute</th>\n",
       "      <th>Second</th>\n",
       "      <th>OffenseTeam</th>\n",
       "      <th>DefenseTeam</th>\n",
       "      <th>Down</th>\n",
       "      <th>ToGo</th>\n",
       "      <th>YardLine</th>\n",
       "      <th>...</th>\n",
       "      <th>IsTwoPointConversion</th>\n",
       "      <th>IsTwoPointConversionSuccessful</th>\n",
       "      <th>RushDirection</th>\n",
       "      <th>YardLineFixed</th>\n",
       "      <th>YardLineDirection</th>\n",
       "      <th>IsPenaltyAccepted</th>\n",
       "      <th>PenaltyTeam</th>\n",
       "      <th>IsNoPlay</th>\n",
       "      <th>PenaltyType</th>\n",
       "      <th>PenaltyYards</th>\n",
       "    </tr>\n",
       "  </thead>\n",
       "  <tbody>\n",
       "    <tr>\n",
       "      <th>0</th>\n",
       "      <td>2013091512</td>\n",
       "      <td>2013-09-15</td>\n",
       "      <td>4</td>\n",
       "      <td>5</td>\n",
       "      <td>9</td>\n",
       "      <td>JAX</td>\n",
       "      <td>LV</td>\n",
       "      <td>4</td>\n",
       "      <td>13</td>\n",
       "      <td>16</td>\n",
       "      <td>...</td>\n",
       "      <td>0.0</td>\n",
       "      <td>0</td>\n",
       "      <td>NaN</td>\n",
       "      <td>16</td>\n",
       "      <td>OWN</td>\n",
       "      <td>1.0</td>\n",
       "      <td>OAK</td>\n",
       "      <td>0.0</td>\n",
       "      <td>OFFENSIVE HOLDING</td>\n",
       "      <td>10.0</td>\n",
       "    </tr>\n",
       "    <tr>\n",
       "      <th>1</th>\n",
       "      <td>2013091512</td>\n",
       "      <td>2013-09-15</td>\n",
       "      <td>4</td>\n",
       "      <td>0</td>\n",
       "      <td>36</td>\n",
       "      <td>JAX</td>\n",
       "      <td>LV</td>\n",
       "      <td>2</td>\n",
       "      <td>10</td>\n",
       "      <td>65</td>\n",
       "      <td>...</td>\n",
       "      <td>0.0</td>\n",
       "      <td>0</td>\n",
       "      <td>NaN</td>\n",
       "      <td>35</td>\n",
       "      <td>OPP</td>\n",
       "      <td>0.0</td>\n",
       "      <td>NaN</td>\n",
       "      <td>0.0</td>\n",
       "      <td>NaN</td>\n",
       "      <td>0.0</td>\n",
       "    </tr>\n",
       "    <tr>\n",
       "      <th>2</th>\n",
       "      <td>2013091512</td>\n",
       "      <td>2013-09-15</td>\n",
       "      <td>4</td>\n",
       "      <td>5</td>\n",
       "      <td>21</td>\n",
       "      <td>JAX</td>\n",
       "      <td>LV</td>\n",
       "      <td>3</td>\n",
       "      <td>6</td>\n",
       "      <td>23</td>\n",
       "      <td>...</td>\n",
       "      <td>0.0</td>\n",
       "      <td>0</td>\n",
       "      <td>NaN</td>\n",
       "      <td>23</td>\n",
       "      <td>OWN</td>\n",
       "      <td>0.0</td>\n",
       "      <td>NaN</td>\n",
       "      <td>0.0</td>\n",
       "      <td>NaN</td>\n",
       "      <td>0.0</td>\n",
       "    </tr>\n",
       "    <tr>\n",
       "      <th>3</th>\n",
       "      <td>2013091512</td>\n",
       "      <td>2013-09-15</td>\n",
       "      <td>4</td>\n",
       "      <td>5</td>\n",
       "      <td>24</td>\n",
       "      <td>JAX</td>\n",
       "      <td>LV</td>\n",
       "      <td>2</td>\n",
       "      <td>6</td>\n",
       "      <td>23</td>\n",
       "      <td>...</td>\n",
       "      <td>0.0</td>\n",
       "      <td>0</td>\n",
       "      <td>NaN</td>\n",
       "      <td>23</td>\n",
       "      <td>OWN</td>\n",
       "      <td>0.0</td>\n",
       "      <td>NaN</td>\n",
       "      <td>0.0</td>\n",
       "      <td>NaN</td>\n",
       "      <td>0.0</td>\n",
       "    </tr>\n",
       "    <tr>\n",
       "      <th>4</th>\n",
       "      <td>2013091512</td>\n",
       "      <td>2013-09-15</td>\n",
       "      <td>4</td>\n",
       "      <td>5</td>\n",
       "      <td>55</td>\n",
       "      <td>JAX</td>\n",
       "      <td>LV</td>\n",
       "      <td>1</td>\n",
       "      <td>10</td>\n",
       "      <td>19</td>\n",
       "      <td>...</td>\n",
       "      <td>0.0</td>\n",
       "      <td>0</td>\n",
       "      <td>NaN</td>\n",
       "      <td>19</td>\n",
       "      <td>OWN</td>\n",
       "      <td>0.0</td>\n",
       "      <td>NaN</td>\n",
       "      <td>0.0</td>\n",
       "      <td>NaN</td>\n",
       "      <td>0.0</td>\n",
       "    </tr>\n",
       "  </tbody>\n",
       "</table>\n",
       "<p>5 rows × 45 columns</p>\n",
       "</div>"
      ],
      "text/plain": [
       "       GameId    GameDate  Quarter  Minute  Second OffenseTeam DefenseTeam  \\\n",
       "0  2013091512  2013-09-15        4       5       9         JAX          LV   \n",
       "1  2013091512  2013-09-15        4       0      36         JAX          LV   \n",
       "2  2013091512  2013-09-15        4       5      21         JAX          LV   \n",
       "3  2013091512  2013-09-15        4       5      24         JAX          LV   \n",
       "4  2013091512  2013-09-15        4       5      55         JAX          LV   \n",
       "\n",
       "   Down  ToGo  YardLine  ...  IsTwoPointConversion  \\\n",
       "0     4    13        16  ...                   0.0   \n",
       "1     2    10        65  ...                   0.0   \n",
       "2     3     6        23  ...                   0.0   \n",
       "3     2     6        23  ...                   0.0   \n",
       "4     1    10        19  ...                   0.0   \n",
       "\n",
       "   IsTwoPointConversionSuccessful  RushDirection  YardLineFixed  \\\n",
       "0                               0            NaN             16   \n",
       "1                               0            NaN             35   \n",
       "2                               0            NaN             23   \n",
       "3                               0            NaN             23   \n",
       "4                               0            NaN             19   \n",
       "\n",
       "  YardLineDirection IsPenaltyAccepted  PenaltyTeam  IsNoPlay  \\\n",
       "0               OWN               1.0          OAK       0.0   \n",
       "1               OPP               0.0          NaN       0.0   \n",
       "2               OWN               0.0          NaN       0.0   \n",
       "3               OWN               0.0          NaN       0.0   \n",
       "4               OWN               0.0          NaN       0.0   \n",
       "\n",
       "         PenaltyType  PenaltyYards  \n",
       "0  OFFENSIVE HOLDING          10.0  \n",
       "1                NaN           0.0  \n",
       "2                NaN           0.0  \n",
       "3                NaN           0.0  \n",
       "4                NaN           0.0  \n",
       "\n",
       "[5 rows x 45 columns]"
      ]
     },
     "execution_count": 2,
     "metadata": {},
     "output_type": "execute_result"
    }
   ],
   "source": [
    "initial_dataframe = pd.read_csv('data/pbp-alldata.csv', error_bad_lines=False)\n",
    "initial_dataframe.head()"
   ]
  },
  {
   "cell_type": "code",
   "execution_count": 3,
   "metadata": {},
   "outputs": [
    {
     "name": "stdout",
     "output_type": "stream",
     "text": [
      "['GameId', 'GameDate', 'Quarter', 'Minute', 'Second', 'OffenseTeam', 'DefenseTeam', 'Down', 'ToGo', 'YardLine', 'Unnamed: 10', 'SeriesFirstDown', 'Unnamed: 12', 'NextScore', 'Description', 'TeamWin', 'Unnamed: 16', 'Unnamed: 17', 'SeasonYear', 'Yards', 'Formation', 'PlayType', 'IsRush', 'IsPass', 'IsIncomplete', 'IsTouchdown', 'PassType', 'IsSack', 'IsChallenge', 'IsChallengeReversed', 'Challenger', 'IsMeasurement', 'IsInterception', 'IsFumble', 'IsPenalty', 'IsTwoPointConversion', 'IsTwoPointConversionSuccessful', 'RushDirection', 'YardLineFixed', 'YardLineDirection', 'IsPenaltyAccepted', 'PenaltyTeam', 'IsNoPlay', 'PenaltyType', 'PenaltyYards']\n"
     ]
    }
   ],
   "source": [
    "print(list(initial_dataframe))"
   ]
  },
  {
   "cell_type": "code",
   "execution_count": 4,
   "metadata": {},
   "outputs": [
    {
     "data": {
      "text/plain": [
       "GameId                            False\n",
       "GameDate                          False\n",
       "Quarter                           False\n",
       "Minute                            False\n",
       "Second                            False\n",
       "OffenseTeam                        True\n",
       "DefenseTeam                        True\n",
       "Down                              False\n",
       "ToGo                              False\n",
       "YardLine                          False\n",
       "Unnamed: 10                        True\n",
       "SeriesFirstDown                   False\n",
       "Unnamed: 12                        True\n",
       "NextScore                         False\n",
       "Description                        True\n",
       "TeamWin                           False\n",
       "Unnamed: 16                        True\n",
       "Unnamed: 17                        True\n",
       "SeasonYear                        False\n",
       "Yards                             False\n",
       "Formation                          True\n",
       "PlayType                           True\n",
       "IsRush                            False\n",
       "IsPass                            False\n",
       "IsIncomplete                       True\n",
       "IsTouchdown                       False\n",
       "PassType                           True\n",
       "IsSack                            False\n",
       "IsChallenge                       False\n",
       "IsChallengeReversed               False\n",
       "Challenger                         True\n",
       "IsMeasurement                      True\n",
       "IsInterception                    False\n",
       "IsFumble                          False\n",
       "IsPenalty                         False\n",
       "IsTwoPointConversion               True\n",
       "IsTwoPointConversionSuccessful    False\n",
       "RushDirection                      True\n",
       "YardLineFixed                     False\n",
       "YardLineDirection                  True\n",
       "IsPenaltyAccepted                  True\n",
       "PenaltyTeam                        True\n",
       "IsNoPlay                           True\n",
       "PenaltyType                        True\n",
       "PenaltyYards                       True\n",
       "dtype: bool"
      ]
     },
     "execution_count": 4,
     "metadata": {},
     "output_type": "execute_result"
    }
   ],
   "source": [
    "initial_dataframe.isna().any()"
   ]
  },
  {
   "cell_type": "code",
   "execution_count": 5,
   "metadata": {},
   "outputs": [],
   "source": [
    "initial_dataframe['OffenseTeam'] = initial_dataframe['OffenseTeam'].fillna('No Offensive Team')\n",
    "initial_dataframe['DefenseTeam'] = initial_dataframe['DefenseTeam'].fillna('No Defensive Team')\n",
    "initial_dataframe['Description'] = initial_dataframe['Description'].fillna('No Description')\n",
    "initial_dataframe['Formation'] = initial_dataframe['Formation'].fillna('No Formation')\n",
    "initial_dataframe['PlayType'] = initial_dataframe['PlayType'].fillna('No Play Type')\n",
    "initial_dataframe['IsIncomplete'] = initial_dataframe['IsIncomplete'].fillna(0)\n",
    "initial_dataframe['PassType'] = initial_dataframe['PassType'].fillna('No Pass')\n",
    "initial_dataframe['Challenger'] = initial_dataframe['Challenger'].fillna('No Challenger')\n",
    "initial_dataframe['IsMeasurement'] = initial_dataframe['IsMeasurement'].fillna(0)\n",
    "initial_dataframe['IsTwoPointConversion'] = initial_dataframe['IsTwoPointConversion'].fillna(0)\n",
    "initial_dataframe['RushDirection'] = initial_dataframe['RushDirection'].fillna('No Rush Direction')\n",
    "initial_dataframe['YardLineDirection'] = initial_dataframe['YardLineDirection'].fillna('OWN')\n",
    "initial_dataframe['IsPenaltyAccepted'] = initial_dataframe['IsPenaltyAccepted'].fillna(0)\n",
    "initial_dataframe['PenaltyTeam'] = initial_dataframe['PenaltyTeam'].fillna('None')\n",
    "initial_dataframe['IsNoPlay'] = initial_dataframe['IsNoPlay'].fillna(0)\n",
    "initial_dataframe['PenaltyType'] = initial_dataframe['PenaltyType'].fillna('No Penalty')\n",
    "initial_dataframe['PenaltyYards'] = initial_dataframe['PenaltyYards'].fillna(0)\n",
    "initial_dataframe = initial_dataframe.drop(columns=['Unnamed: 10', 'Unnamed: 12', 'Unnamed: 16', 'Unnamed: 17'])"
   ]
  },
  {
   "cell_type": "code",
   "execution_count": 6,
   "metadata": {},
   "outputs": [
    {
     "data": {
      "text/plain": [
       "GameId                            False\n",
       "GameDate                          False\n",
       "Quarter                           False\n",
       "Minute                            False\n",
       "Second                            False\n",
       "OffenseTeam                       False\n",
       "DefenseTeam                       False\n",
       "Down                              False\n",
       "ToGo                              False\n",
       "YardLine                          False\n",
       "SeriesFirstDown                   False\n",
       "NextScore                         False\n",
       "Description                       False\n",
       "TeamWin                           False\n",
       "SeasonYear                        False\n",
       "Yards                             False\n",
       "Formation                         False\n",
       "PlayType                          False\n",
       "IsRush                            False\n",
       "IsPass                            False\n",
       "IsIncomplete                      False\n",
       "IsTouchdown                       False\n",
       "PassType                          False\n",
       "IsSack                            False\n",
       "IsChallenge                       False\n",
       "IsChallengeReversed               False\n",
       "Challenger                        False\n",
       "IsMeasurement                     False\n",
       "IsInterception                    False\n",
       "IsFumble                          False\n",
       "IsPenalty                         False\n",
       "IsTwoPointConversion              False\n",
       "IsTwoPointConversionSuccessful    False\n",
       "RushDirection                     False\n",
       "YardLineFixed                     False\n",
       "YardLineDirection                 False\n",
       "IsPenaltyAccepted                 False\n",
       "PenaltyTeam                       False\n",
       "IsNoPlay                          False\n",
       "PenaltyType                       False\n",
       "PenaltyYards                      False\n",
       "dtype: bool"
      ]
     },
     "execution_count": 6,
     "metadata": {},
     "output_type": "execute_result"
    }
   ],
   "source": [
    "initial_dataframe.isna().any()"
   ]
  },
  {
   "cell_type": "code",
   "execution_count": 7,
   "metadata": {},
   "outputs": [],
   "source": [
    "cleaned_df = initial_dataframe.copy()"
   ]
  },
  {
   "cell_type": "code",
   "execution_count": 8,
   "metadata": {},
   "outputs": [
    {
     "data": {
      "text/html": [
       "<div>\n",
       "<style scoped>\n",
       "    .dataframe tbody tr th:only-of-type {\n",
       "        vertical-align: middle;\n",
       "    }\n",
       "\n",
       "    .dataframe tbody tr th {\n",
       "        vertical-align: top;\n",
       "    }\n",
       "\n",
       "    .dataframe thead th {\n",
       "        text-align: right;\n",
       "    }\n",
       "</style>\n",
       "<table border=\"1\" class=\"dataframe\">\n",
       "  <thead>\n",
       "    <tr style=\"text-align: right;\">\n",
       "      <th></th>\n",
       "      <th>GameId</th>\n",
       "      <th>GameDate</th>\n",
       "      <th>Quarter</th>\n",
       "      <th>Minute</th>\n",
       "      <th>Second</th>\n",
       "      <th>OffenseTeam</th>\n",
       "      <th>DefenseTeam</th>\n",
       "      <th>Down</th>\n",
       "      <th>ToGo</th>\n",
       "      <th>YardLine</th>\n",
       "      <th>...</th>\n",
       "      <th>IsTwoPointConversion</th>\n",
       "      <th>IsTwoPointConversionSuccessful</th>\n",
       "      <th>RushDirection</th>\n",
       "      <th>YardLineFixed</th>\n",
       "      <th>YardLineDirection</th>\n",
       "      <th>IsPenaltyAccepted</th>\n",
       "      <th>PenaltyTeam</th>\n",
       "      <th>IsNoPlay</th>\n",
       "      <th>PenaltyType</th>\n",
       "      <th>PenaltyYards</th>\n",
       "    </tr>\n",
       "  </thead>\n",
       "  <tbody>\n",
       "    <tr>\n",
       "      <th>0</th>\n",
       "      <td>2013091512</td>\n",
       "      <td>2013-09-15</td>\n",
       "      <td>4</td>\n",
       "      <td>5</td>\n",
       "      <td>9</td>\n",
       "      <td>JAX</td>\n",
       "      <td>LV</td>\n",
       "      <td>4</td>\n",
       "      <td>13</td>\n",
       "      <td>16</td>\n",
       "      <td>...</td>\n",
       "      <td>0.0</td>\n",
       "      <td>0</td>\n",
       "      <td>No Rush Direction</td>\n",
       "      <td>16</td>\n",
       "      <td>OWN</td>\n",
       "      <td>1.0</td>\n",
       "      <td>OAK</td>\n",
       "      <td>0.0</td>\n",
       "      <td>OFFENSIVE HOLDING</td>\n",
       "      <td>10.0</td>\n",
       "    </tr>\n",
       "    <tr>\n",
       "      <th>1</th>\n",
       "      <td>2013091512</td>\n",
       "      <td>2013-09-15</td>\n",
       "      <td>4</td>\n",
       "      <td>0</td>\n",
       "      <td>36</td>\n",
       "      <td>JAX</td>\n",
       "      <td>LV</td>\n",
       "      <td>2</td>\n",
       "      <td>10</td>\n",
       "      <td>65</td>\n",
       "      <td>...</td>\n",
       "      <td>0.0</td>\n",
       "      <td>0</td>\n",
       "      <td>No Rush Direction</td>\n",
       "      <td>35</td>\n",
       "      <td>OPP</td>\n",
       "      <td>0.0</td>\n",
       "      <td>None</td>\n",
       "      <td>0.0</td>\n",
       "      <td>No Penalty</td>\n",
       "      <td>0.0</td>\n",
       "    </tr>\n",
       "    <tr>\n",
       "      <th>2</th>\n",
       "      <td>2013091512</td>\n",
       "      <td>2013-09-15</td>\n",
       "      <td>4</td>\n",
       "      <td>5</td>\n",
       "      <td>21</td>\n",
       "      <td>JAX</td>\n",
       "      <td>LV</td>\n",
       "      <td>3</td>\n",
       "      <td>6</td>\n",
       "      <td>23</td>\n",
       "      <td>...</td>\n",
       "      <td>0.0</td>\n",
       "      <td>0</td>\n",
       "      <td>No Rush Direction</td>\n",
       "      <td>23</td>\n",
       "      <td>OWN</td>\n",
       "      <td>0.0</td>\n",
       "      <td>None</td>\n",
       "      <td>0.0</td>\n",
       "      <td>No Penalty</td>\n",
       "      <td>0.0</td>\n",
       "    </tr>\n",
       "    <tr>\n",
       "      <th>3</th>\n",
       "      <td>2013091512</td>\n",
       "      <td>2013-09-15</td>\n",
       "      <td>4</td>\n",
       "      <td>5</td>\n",
       "      <td>24</td>\n",
       "      <td>JAX</td>\n",
       "      <td>LV</td>\n",
       "      <td>2</td>\n",
       "      <td>6</td>\n",
       "      <td>23</td>\n",
       "      <td>...</td>\n",
       "      <td>0.0</td>\n",
       "      <td>0</td>\n",
       "      <td>No Rush Direction</td>\n",
       "      <td>23</td>\n",
       "      <td>OWN</td>\n",
       "      <td>0.0</td>\n",
       "      <td>None</td>\n",
       "      <td>0.0</td>\n",
       "      <td>No Penalty</td>\n",
       "      <td>0.0</td>\n",
       "    </tr>\n",
       "    <tr>\n",
       "      <th>4</th>\n",
       "      <td>2013091512</td>\n",
       "      <td>2013-09-15</td>\n",
       "      <td>4</td>\n",
       "      <td>5</td>\n",
       "      <td>55</td>\n",
       "      <td>JAX</td>\n",
       "      <td>LV</td>\n",
       "      <td>1</td>\n",
       "      <td>10</td>\n",
       "      <td>19</td>\n",
       "      <td>...</td>\n",
       "      <td>0.0</td>\n",
       "      <td>0</td>\n",
       "      <td>No Rush Direction</td>\n",
       "      <td>19</td>\n",
       "      <td>OWN</td>\n",
       "      <td>0.0</td>\n",
       "      <td>None</td>\n",
       "      <td>0.0</td>\n",
       "      <td>No Penalty</td>\n",
       "      <td>0.0</td>\n",
       "    </tr>\n",
       "  </tbody>\n",
       "</table>\n",
       "<p>5 rows × 41 columns</p>\n",
       "</div>"
      ],
      "text/plain": [
       "       GameId    GameDate  Quarter  Minute  Second OffenseTeam DefenseTeam  \\\n",
       "0  2013091512  2013-09-15        4       5       9         JAX          LV   \n",
       "1  2013091512  2013-09-15        4       0      36         JAX          LV   \n",
       "2  2013091512  2013-09-15        4       5      21         JAX          LV   \n",
       "3  2013091512  2013-09-15        4       5      24         JAX          LV   \n",
       "4  2013091512  2013-09-15        4       5      55         JAX          LV   \n",
       "\n",
       "   Down  ToGo  YardLine  ...  IsTwoPointConversion  \\\n",
       "0     4    13        16  ...                   0.0   \n",
       "1     2    10        65  ...                   0.0   \n",
       "2     3     6        23  ...                   0.0   \n",
       "3     2     6        23  ...                   0.0   \n",
       "4     1    10        19  ...                   0.0   \n",
       "\n",
       "   IsTwoPointConversionSuccessful      RushDirection YardLineFixed  \\\n",
       "0                               0  No Rush Direction            16   \n",
       "1                               0  No Rush Direction            35   \n",
       "2                               0  No Rush Direction            23   \n",
       "3                               0  No Rush Direction            23   \n",
       "4                               0  No Rush Direction            19   \n",
       "\n",
       "   YardLineDirection  IsPenaltyAccepted PenaltyTeam IsNoPlay  \\\n",
       "0                OWN                1.0         OAK      0.0   \n",
       "1                OPP                0.0        None      0.0   \n",
       "2                OWN                0.0        None      0.0   \n",
       "3                OWN                0.0        None      0.0   \n",
       "4                OWN                0.0        None      0.0   \n",
       "\n",
       "         PenaltyType  PenaltyYards  \n",
       "0  OFFENSIVE HOLDING          10.0  \n",
       "1         No Penalty           0.0  \n",
       "2         No Penalty           0.0  \n",
       "3         No Penalty           0.0  \n",
       "4         No Penalty           0.0  \n",
       "\n",
       "[5 rows x 41 columns]"
      ]
     },
     "execution_count": 8,
     "metadata": {},
     "output_type": "execute_result"
    }
   ],
   "source": [
    "cleaned_df.head()"
   ]
  },
  {
   "cell_type": "code",
   "execution_count": 9,
   "metadata": {},
   "outputs": [
    {
     "data": {
      "text/plain": [
       "Text(0.5, 1.0, 'Distribution of each play type')"
      ]
     },
     "execution_count": 9,
     "metadata": {},
     "output_type": "execute_result"
    },
    {
     "data": {
      "image/png": "[encoded data removed]",
      "text/plain": [
       "<Figure size 432x288 with 1 Axes>"
      ]
     },
     "metadata": {
      "needs_background": "light"
     },
     "output_type": "display_data"
    }
   ],
   "source": [
    "ax = cleaned_df['PlayType'].value_counts().plot(kind='bar')\n",
    "ax.set_title('Distribution of each play type')"
   ]
  },
  {
   "cell_type": "code",
   "execution_count": 10,
   "metadata": {},
   "outputs": [
    {
     "data": {
      "text/plain": [
       "Quarter\n",
       "1    4.287219\n",
       "2    4.089221\n",
       "3    4.484038\n",
       "4    3.952360\n",
       "5    4.151824\n",
       "Name: Yards, dtype: float64"
      ]
     },
     "execution_count": 10,
     "metadata": {},
     "output_type": "execute_result"
    }
   ],
   "source": [
    "grouped = cleaned_df.groupby('Quarter').mean()\n",
    "grouped['Yards']"
   ]
  },
  {
   "cell_type": "code",
   "execution_count": 11,
   "metadata": {},
   "outputs": [],
   "source": [
    "# classify the teams into high shotgun formation usage vs low shotgun formation usage\n",
    "# Test whether or not high shotgun formation usage results in a significantly larger win percentage."
   ]
  },
  {
   "cell_type": "code",
   "execution_count": 30,
   "metadata": {},
   "outputs": [
    {
     "name": "stdout",
     "output_type": "stream",
     "text": [
      "['GameId', 'GameDate', 'Quarter', 'Minute', 'Second', 'DefenseTeam', 'Down', 'ToGo', 'YardLine', 'SeriesFirstDown', 'NextScore', 'Description', 'TeamWin', 'SeasonYear', 'Yards', 'Formation', 'PlayType', 'IsRush', 'IsPass', 'IsIncomplete', 'IsTouchdown', 'PassType', 'IsSack', 'IsChallenge', 'IsChallengeReversed', 'Challenger', 'IsMeasurement', 'IsInterception', 'IsFumble', 'IsPenalty', 'IsTwoPointConversion', 'IsTwoPointConversionSuccessful', 'RushDirection', 'YardLineFixed', 'YardLineDirection', 'IsPenaltyAccepted', 'PenaltyTeam', 'IsNoPlay', 'PenaltyType', 'PenaltyYards']\n"
     ]
    },
    {
     "data": {
      "text/plain": [
       "'ATL'"
      ]
     },
     "execution_count": 30,
     "metadata": {},
     "output_type": "execute_result"
    }
   ],
   "source": [
    "formations_per_team = cleaned_df.groupby('OffenseTeam').count()\n",
    "print(list(formations_per_team))\n",
    "formations_per_team = formations_per_team.reset_index()\n",
    "formations_per_team['Formation']\n",
    "formations_per_team['Formation'].mean()\n",
    "formations_per_team['OffenseTeam'][1]"
   ]
  },
  {
   "cell_type": "code",
   "execution_count": 29,
   "metadata": {},
   "outputs": [
    {
     "data": {
      "text/plain": [
       "4352.941176470588"
      ]
     },
     "execution_count": 29,
     "metadata": {},
     "output_type": "execute_result"
    }
   ],
   "source": [
    "shotguns_df = cleaned_df[cleaned_df['Formation'] == 'SHOTGUN']\n",
    "shotguns_per_team = shotguns_df.groupby('OffenseTeam').count()\n",
    "shotguns_per_team = shotguns_per_team.reset_index()\n",
    "shotguns_per_team['Formation']\n",
    "shotguns_per_team['Formation'].mean()"
   ]
  },
  {
   "cell_type": "code",
   "execution_count": 16,
   "metadata": {},
   "outputs": [
    {
     "name": "stdout",
     "output_type": "stream",
     "text": [
      "0.40593543432348667\n"
     ]
    }
   ],
   "source": [
    "print(4352.941176470588/10723.235294117647)"
   ]
  },
  {
   "cell_type": "code",
   "execution_count": 28,
   "metadata": {},
   "outputs": [
    {
     "data": {
      "text/plain": [
       "0     23527\n",
       "1     24093\n",
       "2     26916\n",
       "3     28652\n",
       "4     30021\n",
       "5     28790\n",
       "6     28939\n",
       "7     25277\n",
       "8     26088\n",
       "9     25448\n",
       "10    28086\n",
       "11    26695\n",
       "12    29759\n",
       "13    28635\n",
       "14    27256\n",
       "15    35158\n",
       "16    17792\n",
       "17    15978\n",
       "18    28361\n",
       "19    29218\n",
       "20    21303\n",
       "21    24690\n",
       "22    28820\n",
       "23    19465\n",
       "24    26760\n",
       "25       -3\n",
       "26    25437\n",
       "27    29832\n",
       "28    16780\n",
       "29    31113\n",
       "30    23352\n",
       "31    24259\n",
       "32    22278\n",
       "33    27127\n",
       "Name: Yards, dtype: int64"
      ]
     },
     "execution_count": 28,
     "metadata": {},
     "output_type": "execute_result"
    }
   ],
   "source": [
    "shotgun_yards_sum_per_team = shotguns_df.groupby('OffenseTeam').sum()\n",
    "shotgun_yards_sum_per_team = shotgun_yards_sum_per_team.reset_index()\n",
    "shotgun_yards_sum_per_team['Yards']"
   ]
  },
  {
   "cell_type": "code",
   "execution_count": 45,
   "metadata": {},
   "outputs": [
    {
     "name": "stdout",
     "output_type": "stream",
     "text": [
      "['BAL', 'BUF', 'CAR', 'CHI', 'CIN', 'CLE', 'DAL', 'DET', 'GB', 'HOU', 'IND', 'JAX', 'KC', 'LAC', 'LV', 'MIA', 'NYJ', 'PHI', 'PIT', 'SD', 'SEA', 'WAS'] ['ARI', 'ATL', 'DEN', 'LA', 'MIN', 'NE', 'NO', 'NYG', 'No Offensive Team', 'SF', 'TB', 'TEN']\n"
     ]
    }
   ],
   "source": [
    "teams_above_shotgun_threshold = []\n",
    "teams_below_shotgun_threshold = []\n",
    "for i in range(len(shotguns_per_team['Formation'])):\n",
    "    if shotguns_per_team['Formation'][i] / formations_per_team['Formation'][i] >= 0.40593543432348667:\n",
    "        teams_above_shotgun_threshold.append(shotguns_per_team['OffenseTeam'][i])\n",
    "    else:\n",
    "        teams_below_shotgun_threshold.append(shotguns_per_team['OffenseTeam'][i])\n",
    "print(teams_above_shotgun_threshold, teams_below_shotgun_threshold) \n",
    "teams_below_shotgun_threshold.remove('No Offensive Team')\n",
    "#shotgun_heavy_offenses =\n"
   ]
  },
  {
   "cell_type": "code",
   "execution_count": 61,
   "metadata": {},
   "outputs": [
    {
     "name": "stdout",
     "output_type": "stream",
     "text": [
      "2671\n",
      "1401\n"
     ]
    }
   ],
   "source": [
    "games = cleaned_df.groupby(['GameId','OffenseTeam']).sum()\n",
    "games = games.reset_index()\n",
    "shotgun_heavy_teams_ypg = []\n",
    "balanced_teams_ypg = []\n",
    "games['Yards']\n",
    "for i in range(len(games[\"Yards\"])):\n",
    "    if games['OffenseTeam'][i] in teams_above_shotgun_threshold:\n",
    "        shotgun_heavy_teams_ypg.append(games['Yards'][i])\n",
    "    elif games['OffenseTeam'][i] in teams_below_shotgun_threshold:\n",
    "        balanced_teams_ypg.append(games['Yards'][i])\n",
    "print(len(shotgun_heavy_teams_ypg))\n",
    "print(len(balanced_teams_ypg))"
   ]
  },
  {
   "cell_type": "code",
   "execution_count": 50,
   "metadata": {},
   "outputs": [
    {
     "name": "stdout",
     "output_type": "stream",
     "text": [
      "[276, 284, 352, 460, 304, 420, 313, 275, 295, 304, 344, 373, 380, 530, 374, 304, 405, 533, 289, 386, 438, 205, 267, 237, 289, 428, 525, 332, 419, 429, 337, 339, 301, 304, 441, 471, 284, 379, 434, 261, 282, 277, 363, 479, 494, 342, 270, 323, 312, 536, 415, 295, 179, 374, 349, 402, 500, 393, 239, 301, 192, 244, 315, 348, 342, 282, 432, 497, 462, 526, 313, 186, 434, 374, 273, 299, 300, 411, 385, 414, 423, 360, 387, 397, 315, 283, 516, 422, 319, 471, 442, 356, 230, 375, 379, 327, 203, 501, 559, 310, 460, 472, 356, 403, 415, 501, 463, 450, 262, 339, 339, 586, 344, 307, 330, 312, 506, 492, 313, 352, 388, 289, 300, 345, 302, 340, 389, 390, 472, 375, 412, 512, 505, 414, 266, 474, 328, 518, 250, 231, 348, 365, 263, 445, 384, 349, 471, 330, 222, 196, 470, 307, 450, 308, 302, 353, 367, 469, 400, 445, 271, 350, 254, 254, 408, 516, 271, 455, 490, 380, 346, 418, 415, 425, 202, 555, 278, 342, 368, 550, 460, 210, 481, 206, 356, 468, 228, 326, 387, 243, 396, 569, 373, 311, 346, 160, 277, 534, 481, 223, 417, 397, 243, 428, 406, 388, 363, 381, 439, 300, 342, 405, 571, 337, 328, 293, 444, 512, 219, 475, 464, 463, 339, 475, 536, 413, 256, 412, 305, 352, 503, 352, 470, 304, 435, 492, 275, 166, 383, 275, 348, 288, 405, 394, 357, 344, 395, 317, 525, 409, 366, 418, 314, 349, 262, 533, 443, 339, 462, 320, 360, 249, 592, 350, 374, 363, 404, 283, 372, 295, 389, 451, 225, 350, 462, 374, 406, 422, 385, 349, 275, 539, 327, 352, 492, 333, 316, 417, 338, 271, 344, 601, 396, 354, 428, 534, 518, 366, 367, 404, 503, 408, 289, 400, 332, 453, 460, 378, 256, 399, 405, 410, 321, 503, 318, 435, 498, 313, 426, 391, 504, 349, 308, 302, 383, 257, 479, 445, 330, 475, 507, 305, 473, 362, 380, 255, 534, 421, 416, 321, 478, 354, 339, 536, 363, 424, 455, 418, 431, 263] [365, 441, 348, 381, 343, 434, 450, 380, 458, 408, 310, 415, 318, 286, 286, 408, 384, 386, 218, 410, 371, 400, 572, 355, 427, 454, 355, 393, 356, 361, 279, 459, 261, 362, 343, 353, 492, 342, 435, 512, 496, 279, 317, 567, 487, 306, 410, 317, 550, 382, 383, 458, 345, 260, 468, 468, 275, 397, 443, 369, 463, 470, 475, 536, 342, 362, 277, 217, 325, 328, 423, 279, 394, 505, 246, 384, 453, 438, 511, 376, 430, 429, 516, 539, 463, 318, 218, 436, 597, 358, 488, 192, 229, 416, 226, 315, 504, 377, 374, 430, 476, 453, 192, 439, 383, 471, 586, 340, 247, 248, 355, 397, 483, 396, 314, 218, 290, 356, 423, 215, 190, 603, 441, 423, 447, 354, 302, 256, 453, 399, 398, 423, 352, 556, 419, 335, 399, 255, 376, 397, 409, 349, 413, 321, 256, 309, 353, 314, 234, 357, 436, 404, 340, 323, 518, 335, 304, 228, 356, 317, 415, 431, 340, 305, 375, 372, 254, 269, 306, 496, 417, 417, 383, 328, 394, 495, 370, 342, 306, 394, 270, 246, 272, 419, 192, 486, 291, 292, 369, 287, 385, 303, 243, 258, 416, 471, 279, 393, 272, 491, 329, 257, 289, 244, 507, 454, 382, 415, 298, 547, 306, 443, 304, 203, 432, 425, 283, 629, 407, 573, 389, 414, 355, 283, 382, 391, 418, 467, 334, 359, 349, 359, 379, 388, 511, 231, 249, 526, 319, 249, 536, 435, 443, 348, 494, 382, 452, 416, 285, 355, 272, 399, 283, 179, 247, 386, 485, 459, 325, 540, 227, 409, 307, 360, 286, 317, 346, 194, 358, 273, 353, 279, 530, 301, 318, 260, 409, 304, 482, 349, 498, 527, 457, 573, 356, 396, 335, 329, 253, 475, 243, 448, 297, 403, 293, 393, 379, 272, 380, 459, 504, 426, 352, 356, 256, 446, 381, 415, 426, 407, 457, 296, 308, 349, 291, 312, 411, 437, 392, 367, 413, 421, 272, 447, 293, 309, 567, 362, 595, 283, 281, 360, 391, 422, 496, 135, 393, 416, 499, 466, 390, 399, 262, 382, 463, 450, 465, 392, 410, 274]\n"
     ]
    }
   ],
   "source": [
    "random_samples_1 = np.random.randint(0,1400,350)\n",
    "shotgun_heavy_samples1 = []\n",
    "balanced_samples1 = []\n",
    "for i in random_samples_1:\n",
    "    shotgun_heavy_samples1.append(shotgun_heavy_teams_ypg[i])\n",
    "    balanced_samples1.append(balanced_teams_ypg[i])\n",
    "print(shotgun_heavy_samples1, balanced_samples1)"
   ]
  },
  {
   "cell_type": "code",
   "execution_count": 55,
   "metadata": {},
   "outputs": [
    {
     "name": "stdout",
     "output_type": "stream",
     "text": [
      "p-value for Shotgun heavy offenses average yards per game greater than balanced offenses average yards per game: 0.5110\n"
     ]
    }
   ],
   "source": [
    "def t_test_statistic(sample_1, sample_2):\n",
    "    numerator = np.mean(sample_1) - np.mean(sample_2)\n",
    "    denominator_sq = (np.var(sample_1) / len(sample_1)) + (np.var(sample_2) / len(sample_2))\n",
    "    return numerator / np.sqrt(denominator_sq)\n",
    "\n",
    "def welch_satterhwaithe_df(sample_1, sample_2):\n",
    "    ss1 = len(sample_1)\n",
    "    ss2 = len(sample_2)\n",
    "    df = (\n",
    "        ((np.var(sample_1)/ss1 + np.var(sample_2)/ss2)**(2.0)) / \n",
    "        ((np.var(sample_1)/ss1)**(2.0)/(ss1 - 1) + (np.var(sample_2)/ss2)**(2.0)/(ss2 - 1))\n",
    "    )\n",
    "    return df\n",
    "df = welch_satterhwaithe_df(shotgun_heavy_samples1, balanced_samples1)\n",
    "students = stats.t(df)\n",
    "test_statistic = t_test_statistic(balanced_samples1, shotgun_heavy_samples1)\n",
    "p_value = 1 - students.cdf(test_statistic)\n",
    "print(\"p-value for Shotgun heavy offenses average yards per game greater than balanced offenses average yards per game: {:2.4f}\".format(p_value))"
   ]
  },
  {
   "cell_type": "code",
   "execution_count": 56,
   "metadata": {},
   "outputs": [
    {
     "name": "stdout",
     "output_type": "stream",
     "text": [
      "MannwhitneyuResult(statistic=61174.0, pvalue=0.5114072695669872)\n",
      "p-value for Nick < Matt: 0.511\n"
     ]
    }
   ],
   "source": [
    "res = stats.mannwhitneyu(shotgun_heavy_samples1, balanced_samples1, alternative=\"greater\")\n",
    "print(res)\n",
    "print(\"p-value for Nick < Matt: {:2.3f}\".format(res.pvalue))"
   ]
  },
  {
   "cell_type": "code",
   "execution_count": null,
   "metadata": {},
   "outputs": [],
   "source": []
  }
 ],
 "metadata": {
  "kernelspec": {
   "display_name": "Python 3",
   "language": "python",
   "name": "python3"
  },
  "language_info": {
   "codemirror_mode": {
    "name": "ipython",
    "version": 3
   },
   "file_extension": ".py",
   "mimetype": "text/x-python",
   "name": "python",
   "nbconvert_exporter": "python",
   "pygments_lexer": "ipython3",
   "version": "3.8.5"
  }
 },
 "nbformat": 4,
 "nbformat_minor": 4
}
